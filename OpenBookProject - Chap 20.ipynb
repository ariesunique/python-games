{
 "cells": [
  {
   "cell_type": "markdown",
   "metadata": {},
   "source": [
    "# Practice\n",
    "\n",
    "This notebook contains answers to practice problems from the openbookproject python tutorial - http://openbookproject.net/thinkcs/python/english3e/dictionaries.html\n"
   ]
  },
  {
   "cell_type": "markdown",
   "metadata": {},
   "source": [
    "## Chapter 20\n",
    "\n",
    "### Exercise 1\n",
    "\n",
    "Write a program that reads a string and returns a table of the letters of the alphabet in alphabetical order which occur in the string together with the number of times each letter occurs. Case should be ignored. A sample output of the program when the user enters the data “ThiS is String with Upper and lower case Letters”, would look this this:<br>\n",
    "`\n",
    "a  2 \n",
    "c  1 \n",
    "d  1 \n",
    "e  5 \n",
    "g  1 \n",
    "h  2 \n",
    "i  4 \n",
    "l  2 \n",
    "n  2 \n",
    "o  1 \n",
    "p  2 \n",
    "r  4 \n",
    "s  5 \n",
    "t  5 \n",
    "u  1 \n",
    "w  2 \n",
    "`"
   ]
  },
  {
   "cell_type": "code",
   "execution_count": 2,
   "metadata": {},
   "outputs": [],
   "source": [
    "def func(str):\n",
    "    res = {}\n",
    "    for ch in str.lower():\n",
    "        if ch.strip() == \"\":\n",
    "            continue\n",
    "        res[ch] = res.get(ch, 0) + 1    \n",
    "    lst = sorted(list(res.items()))\n",
    "    return lst"
   ]
  },
  {
   "cell_type": "code",
   "execution_count": 3,
   "metadata": {},
   "outputs": [
    {
     "name": "stdout",
     "output_type": "stream",
     "text": [
      "a\t2\n",
      "c\t1\n",
      "d\t1\n",
      "e\t5\n",
      "g\t1\n",
      "h\t2\n",
      "i\t4\n",
      "l\t2\n",
      "n\t2\n",
      "o\t1\n",
      "p\t2\n",
      "r\t4\n",
      "s\t5\n",
      "t\t5\n",
      "u\t1\n",
      "w\t2\n"
     ]
    }
   ],
   "source": [
    "res = func(\"ThiS is String with Upper and lower case Letters\")\n",
    "for letter, count in res:\n",
    "    print(\"{}\\t{}\".format(letter, count))"
   ]
  },
  {
   "cell_type": "markdown",
   "metadata": {},
   "source": [
    "### Exercise 2\n",
    "\n",
    "Give the Python interpreter’s response to each of the following from a continuous interpreter session:"
   ]
  },
  {
   "cell_type": "code",
   "execution_count": 10,
   "metadata": {},
   "outputs": [
    {
     "data": {
      "text/plain": [
       "35"
      ]
     },
     "execution_count": 10,
     "metadata": {},
     "output_type": "execute_result"
    }
   ],
   "source": [
    "d = {\"apples\": 15, \"bananas\": 35, \"grapes\": 12}\n",
    "d[\"bananas\"]\n",
    "\n",
    "# Expect 35"
   ]
  },
  {
   "cell_type": "code",
   "execution_count": 11,
   "metadata": {},
   "outputs": [
    {
     "data": {
      "text/plain": [
       "4"
      ]
     },
     "execution_count": 11,
     "metadata": {},
     "output_type": "execute_result"
    }
   ],
   "source": [
    "d[\"oranges\"] = 20\n",
    "len(d)\n",
    "\n",
    "# Expect 4"
   ]
  },
  {
   "cell_type": "code",
   "execution_count": 12,
   "metadata": {},
   "outputs": [
    {
     "data": {
      "text/plain": [
       "True"
      ]
     },
     "execution_count": 12,
     "metadata": {},
     "output_type": "execute_result"
    }
   ],
   "source": [
    "\"grapes\" in d\n",
    "\n",
    "# True"
   ]
  },
  {
   "cell_type": "code",
   "execution_count": 13,
   "metadata": {},
   "outputs": [
    {
     "ename": "KeyError",
     "evalue": "'pears'",
     "output_type": "error",
     "traceback": [
      "\u001b[1;31m---------------------------------------------------------------------------\u001b[0m",
      "\u001b[1;31mKeyError\u001b[0m                                  Traceback (most recent call last)",
      "\u001b[1;32m<ipython-input-13-503983243347>\u001b[0m in \u001b[0;36m<module>\u001b[1;34m()\u001b[0m\n\u001b[1;32m----> 1\u001b[1;33m \u001b[0md\u001b[0m\u001b[1;33m[\u001b[0m\u001b[1;34m\"pears\"\u001b[0m\u001b[1;33m]\u001b[0m\u001b[1;33m\u001b[0m\u001b[0m\n\u001b[0m\u001b[0;32m      2\u001b[0m \u001b[1;33m\u001b[0m\u001b[0m\n\u001b[0;32m      3\u001b[0m \u001b[1;31m# This willraise an error\u001b[0m\u001b[1;33m\u001b[0m\u001b[1;33m\u001b[0m\u001b[0m\n",
      "\u001b[1;31mKeyError\u001b[0m: 'pears'"
     ]
    }
   ],
   "source": [
    "d[\"pears\"]\n",
    "\n",
    "# This willraise an error"
   ]
  },
  {
   "cell_type": "code",
   "execution_count": 16,
   "metadata": {},
   "outputs": [
    {
     "data": {
      "text/plain": [
       "False"
      ]
     },
     "execution_count": 16,
     "metadata": {},
     "output_type": "execute_result"
    }
   ],
   "source": [
    "d.get(\"pears\", 0)\n",
    "\n",
    "# This will return 0"
   ]
  },
  {
   "cell_type": "code",
   "execution_count": 15,
   "metadata": {},
   "outputs": [
    {
     "name": "stdout",
     "output_type": "stream",
     "text": [
      "['apples', 'bananas', 'grapes', 'oranges']\n"
     ]
    }
   ],
   "source": [
    "fruits = list(d.keys())\n",
    "fruits.sort()\n",
    "print(fruits)\n",
    "\n",
    "# apples, bananas, grapes, oranges"
   ]
  },
  {
   "cell_type": "code",
   "execution_count": 17,
   "metadata": {},
   "outputs": [
    {
     "data": {
      "text/plain": [
       "False"
      ]
     },
     "execution_count": 17,
     "metadata": {},
     "output_type": "execute_result"
    }
   ],
   "source": [
    "del d[\"apples\"]\n",
    "\"apples\" in d\n",
    "\n",
    "# False"
   ]
  },
  {
   "cell_type": "code",
   "execution_count": 21,
   "metadata": {},
   "outputs": [
    {
     "name": "stdout",
     "output_type": "stream",
     "text": [
      "Success\n",
      "Success\n",
      "Success\n"
     ]
    }
   ],
   "source": [
    "def test(expr):\n",
    "    if expr:\n",
    "        print(\"Success\")\n",
    "    else:\n",
    "        print(\"Fail\", str(expr))\n",
    "        \n",
    "def add_fruit(inventory, fruit, quantity=0):\n",
    "     inventory[fruit] = inventory.get(fruit, 0) + quantity\n",
    "\n",
    "# Make these tests work...\n",
    "new_inventory = {}\n",
    "add_fruit(new_inventory, \"strawberries\", 10)\n",
    "test(\"strawberries\" in new_inventory)\n",
    "test(new_inventory[\"strawberries\"] == 10)\n",
    "add_fruit(new_inventory, \"strawberries\", 25)\n",
    "test(new_inventory[\"strawberries\"] == 35)"
   ]
  },
  {
   "cell_type": "markdown",
   "metadata": {},
   "source": [
    "### Exercise 3\n",
    "\n",
    "Write a program called alice_words.py that creates a text file named alice_words.txt containing an alphabetical listing of all the words, and the number of times each occurs, in the text version of Alice’s Adventures in Wonderland. (You can obtain a free plain text version of the book, along with many others, from http://www.gutenberg.org.) The first 10 lines of your output file should look something like this:<br>\n",
    "`\n",
    "Word              Count\n",
    "a                 631\n",
    "a-piece           1\n",
    "abide             1\n",
    "able              1\n",
    "about             94\n",
    "above             3\n",
    "absence           1\n",
    "absurd            2\n",
    "`"
   ]
  },
  {
   "cell_type": "code",
   "execution_count": 61,
   "metadata": {},
   "outputs": [
    {
     "name": "stdout",
     "output_type": "stream",
     "text": [
      "Overwriting alice_words.py\n"
     ]
    }
   ],
   "source": [
    "%%writefile alice_words.py\n",
    "import io\n",
    "\n",
    "def main():    \n",
    "    with io.open(\"alice-in-wonderland.txt\", \"r\", encoding=\"utf-8\") as f:\n",
    "        text = f.read()\n",
    "    words = text.lower().split()\n",
    "    wordmap = {}\n",
    "    for word in words:\n",
    "        word = word.strip('\\'.,\"?*&!`\\)\\(_][')\n",
    "        word = word.strip()\n",
    "        if word == \"\" or not word.isalnum():\n",
    "            continue\n",
    "        wordmap[word] = wordmap.get(word, 0) + 1\n",
    "    \n",
    "    wordlist = sorted(list(wordmap.items()))\n",
    "    with io.open(\"alice_words.txt\", \"w\", encoding=\"utf-8\") as f:\n",
    "        f.write(\"Word\\t\\t\\tCount\\n\")\n",
    "        for word, count in wordlist:\n",
    "            f.write(\"{}\\t\\t\\t{}\\n\".format(word, count))\n",
    "            \n",
    "\n",
    "if __name__ == \"__main__\":\n",
    "    main()"
   ]
  },
  {
   "cell_type": "code",
   "execution_count": 62,
   "metadata": {},
   "outputs": [],
   "source": [
    "%run alice_words.py"
   ]
  },
  {
   "cell_type": "code",
   "execution_count": 63,
   "metadata": {},
   "outputs": [
    {
     "name": "stdout",
     "output_type": "stream",
     "text": [
      "Word\t\t\tCount\n",
      "\n",
      "a\t\t\t615\n",
      "\n",
      "abide\t\t\t1\n",
      "\n",
      "able\t\t\t1\n",
      "\n",
      "about\t\t\t91\n",
      "\n",
      "above\t\t\t3\n",
      "\n",
      "absence\t\t\t1\n",
      "\n",
      "absurd\t\t\t2\n",
      "\n",
      "acceptance\t\t\t1\n",
      "\n",
      "accident\t\t\t2\n",
      "\n",
      "accidentally\t\t\t1\n",
      "\n"
     ]
    }
   ],
   "source": [
    "with io.open(\"alice_words.txt\", \"r\", encoding=\"utf-8\") as f:\n",
    "    for i in range(11):\n",
    "        print(f.readline())"
   ]
  },
  {
   "cell_type": "code",
   "execution_count": null,
   "metadata": {},
   "outputs": [],
   "source": []
  }
 ],
 "metadata": {
  "kernelspec": {
   "display_name": "Python 3",
   "language": "python",
   "name": "python3"
  },
  "language_info": {
   "codemirror_mode": {
    "name": "ipython",
    "version": 3
   },
   "file_extension": ".py",
   "mimetype": "text/x-python",
   "name": "python",
   "nbconvert_exporter": "python",
   "pygments_lexer": "ipython3",
   "version": "3.6.4"
  }
 },
 "nbformat": 4,
 "nbformat_minor": 2
}
